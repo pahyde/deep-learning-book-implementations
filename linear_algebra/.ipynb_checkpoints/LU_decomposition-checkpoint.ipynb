{
 "cells": [
  {
   "attachments": {},
   "cell_type": "markdown",
   "metadata": {},
   "source": [
    "# A = LU Decomposition\n",
    "\n",
    "Gaussian elimination is a straight-forward algorithm for solving linear systems in the form of Ax = b. \n",
    "\n",
    "Unfortunately, The time complexity for this algorithm approaches O(n^3) ( (n^3-n)/3 operations ), where A is an nxn matrix. This becomes very expensive for larger matrices.\n",
    "\n",
    "While this cost is largely unavoidable, we can make improvements in situations where Ax = b must be computed for many values of b but the same matrix A. Apparently these situations are quite common.\n",
    "\n",
    "To accomplish this we will factor A into an upper and lower matrix L and U. Doing so will still require gaussian elimination and take O(n^3) time, but we will now be able to solve Ax = b for x in O(n^2).\n",
    "\n",
    "Let's see how this works by implementing the algorithm from scratch in python. \n",
    "\n",
    "Later we'll try for an optimized approach using numpy.\n",
    "\n",
    "Suppose we want to solve\n",
    "![linear system](img/lu.png)\n",
    "\n",
    "# Python Implementation\n",
    "\n",
    "## Matrix form"
   ]
  },
  {
   "cell_type": "code",
   "execution_count": 36,
   "metadata": {},
   "outputs": [],
   "source": [
    "#From the system above, we have coefficient matrix A\n",
    "A = [[2,1,1],\n",
    "     [4,-6,0],\n",
    "     [-2,7,2]]\n",
    "\n",
    "#right-hand output vector b\n",
    "b = [5,-2,9]\n",
    "\n",
    "#We'd like to find a solution vector x, such that Ax = b"
   ]
  },
  {
   "cell_type": "markdown",
   "metadata": {},
   "source": [
    "## Solving Ax = b\n",
    "As mentioned above, we're going to pass on the straight-forward approach of finding x by gaussian elemination and back substitution directly. We will still use these techniques to find the LU decomposition and ultimately solve Ax = b, but for different puproses.  \n",
    "\n",
    "Our overall process will go something like this:\n",
    "\n",
    "step 1) use gaussian elimination to find U\n",
    "\n",
    "step 2) rexamine guassian elimination to find L\n",
    " - L takes U to A, guass elimination is described by the matrix that takes A to U.. let's call it (L inverse). \n",
    " - we can leverage this to quickly compute L\n",
    "\n",
    "step 3) use forward substitution to solve Lc = b, where c is the output vector after gaussian elimination\n",
    "\n",
    "step 4) use back substituton to solve Ux = c\n",
    "\n",
    "## step 1) gaussian elimination to find U"
   ]
  },
  {
   "cell_type": "code",
   "execution_count": 37,
   "metadata": {},
   "outputs": [
    {
     "name": "stdout",
     "output_type": "stream",
     "text": [
      "U:\n",
      "  2.00,   1.00,   1.00\n",
      "  0.00,  -8.00,  -2.00\n",
      "  0.00,   0.00,   1.00\n"
     ]
    }
   ],
   "source": [
    "def show(A):\n",
    "    for r in A: print(', '.join('{:6.2f}'.format(x) for x in r))\n",
    "\n",
    "def gauss_elim(A):\n",
    "    #dim of A\n",
    "    d = len(A)\n",
    "    #copy of matrix A\n",
    "    U = [r[:] for r in A[:]]\n",
    "    for k in range(d-1):\n",
    "        for n in range(k+1,d):\n",
    "            #pivot factor\n",
    "            l = U[n][k] / U[k][k]\n",
    "            # subtract l * coeffs in row k from coeffs in row n\n",
    "            U[n] = [U[n][j] - l*U[k][j] for j in range(d)]\n",
    "    return U\n",
    "\n",
    "\n",
    "#find U (row echelon form) from A by gaussian elimination\n",
    "U = gauss_elim(A)\n",
    "print('U:')\n",
    "show(U)"
   ]
  },
  {
   "cell_type": "markdown",
   "metadata": {},
   "source": [
    "## step 2) gaussian elimination to find L"
   ]
  },
  {
   "cell_type": "code",
   "execution_count": 38,
   "metadata": {},
   "outputs": [
    {
     "name": "stdout",
     "output_type": "stream",
     "text": [
      "L:\n",
      "  1.00,   0.00,   0.00\n",
      "  2.00,   1.00,   0.00\n",
      " -1.00,  -1.00,   1.00\n"
     ]
    }
   ],
   "source": [
    "def gauss_elim2(A):\n",
    "    #dim of A\n",
    "    d = len(A)\n",
    "    #identity matrix n*n\n",
    "    L = [[1 if j == i else 0 for j in range(d)] for i in range(d)]\n",
    "    #copy of matrix A\n",
    "    U = [r[:] for r in A[:]]\n",
    "    for k in range(d-1):\n",
    "        for n in range(k+1,d):\n",
    "            #pivot factor\n",
    "            l = U[n][k] / U[k][k]\n",
    "            # subtract l * coeffs in row k from coeffs in row n\n",
    "            U[n] = [U[n][j] - l*U[k][j] for j in range(d)]\n",
    "            #record pivot factor (l) in L\n",
    "            L[n][k] = l\n",
    "    return L\n",
    "\n",
    "#find L within gaussian elimination algorithm\n",
    "L = gauss_elim2(A)\n",
    "print('L:')\n",
    "show(L)"
   ]
  },
  {
   "cell_type": "markdown",
   "metadata": {},
   "source": [
    "we now have A, U, L, b.. everything we need to solve Ax = b from Lc = b and Ux = c\n",
    "\n",
    "## step 3) forward substitution to solve Lc = b"
   ]
  },
  {
   "cell_type": "code",
   "execution_count": 39,
   "metadata": {},
   "outputs": [
    {
     "data": {
      "text/plain": [
       "[5.0, -12.0, 2.0]"
      ]
     },
     "execution_count": 39,
     "metadata": {},
     "output_type": "execute_result"
    }
   ],
   "source": [
    "def dot(x1,x2):\n",
    "    return sum(x1[i] * x2[i] for i in range(len(x1)))\n",
    "\n",
    "def forward_sub(A,b):\n",
    "    x = []\n",
    "    for i in range(len(A)):\n",
    "        x.append((b[i] - dot(A[i][:i], x)) / A[i][i])\n",
    "    return x\n",
    "    \n",
    "#solve the system Lc = b for c\n",
    "c = forward_sub(L,b)\n",
    "c"
   ]
  },
  {
   "cell_type": "markdown",
   "metadata": {},
   "source": [
    "## step 4) back substitution to solve Ux = c"
   ]
  },
  {
   "cell_type": "code",
   "execution_count": 40,
   "metadata": {},
   "outputs": [
    {
     "data": {
      "text/plain": [
       "[1.0, 1.0, 2.0]"
      ]
     },
     "execution_count": 40,
     "metadata": {},
     "output_type": "execute_result"
    }
   ],
   "source": [
    "def back_sub(A,b):\n",
    "    x = []\n",
    "    for i in range(len(A)):\n",
    "        x.append((b[-1-i] - dot(A[-1-i][len(A)-i:], x)) / A[-1-i][-1-i])\n",
    "    return x[::-1]\n",
    "    \n",
    "\n",
    "#solve the system Ux = c for x\n",
    "#this is our final solution to Ax = b\n",
    "x = back_sub(U,c)\n",
    "x"
   ]
  },
  {
   "cell_type": "markdown",
   "metadata": {},
   "source": [
    "## So the the solution to Ax = b for the given system is [1,1,2] !\n",
    "\n",
    "Of course, the python implementation above is far from efficient and has many repeat calculations. A better method would apply only one iteration of gaussian elimination in order to find L and U in one go. From this factorization, we simply find x using Lc = b and Ux = c as before.\n",
    "\n",
    "Let's see how it works.\n",
    "\n",
    "## Numpy Implementation"
   ]
  },
  {
   "cell_type": "code",
   "execution_count": 41,
   "metadata": {},
   "outputs": [
    {
     "name": "stdout",
     "output_type": "stream",
     "text": [
      "L:\n",
      "array([[ 1.,  0.,  0.],\n",
      "       [ 2.,  1.,  0.],\n",
      "       [-1., -1.,  1.]])\n",
      "U:\n",
      "array([[ 2,  1,  1],\n",
      "       [ 0, -8, -2],\n",
      "       [ 0,  0,  1]])\n"
     ]
    },
    {
     "data": {
      "text/plain": [
       "array([1., 1., 2.])"
      ]
     },
     "execution_count": 41,
     "metadata": {},
     "output_type": "execute_result"
    }
   ],
   "source": [
    "import numpy as np\n",
    "import scipy\n",
    "import pprint\n",
    "\n",
    "def LU(A):\n",
    "    #LU factorization\n",
    "    d = A.shape[0]\n",
    "    L, U = np.eye(d), np.array(A)\n",
    "    for k in range(d-1):\n",
    "        for n in range(k+1,d):\n",
    "            l = U[n,k] / U[k,k]\n",
    "            U[n] = U[n] - l * U[k]\n",
    "            L[n,k] = l\n",
    "    return L, U\n",
    "\n",
    "#We have matrix A,b,x such that Ax = b\n",
    "A = np.array([[2,1,1],\n",
    "              [4,-6,0],\n",
    "              [-2,7,2]])\n",
    "\n",
    "b = np.array([5,-2,9])\n",
    "\n",
    "#find U and L \n",
    "L, U = LU(A)\n",
    "print(\"L:\")\n",
    "pprint.pprint(L)\n",
    "\n",
    "print(\"U:\")\n",
    "pprint.pprint(U)\n",
    "#we now have A, U, L, x, b.. everything we need to solve Ax = b\n",
    "\n",
    "#first solve for c in the system Lc = b\n",
    "c = scipy.linalg.solve_triangular(L, b, lower=True)\n",
    "\n",
    "#then solve for x with Ux = c\n",
    "x = scipy.linalg.solve_triangular(U, c)\n",
    "x\n"
   ]
  }
 ],
 "metadata": {
  "kernelspec": {
   "display_name": "Python 3",
   "language": "python",
   "name": "python3"
  },
  "language_info": {
   "codemirror_mode": {
    "name": "ipython",
    "version": 3
   },
   "file_extension": ".py",
   "mimetype": "text/x-python",
   "name": "python",
   "nbconvert_exporter": "python",
   "pygments_lexer": "ipython3",
   "version": "3.6.4"
  }
 },
 "nbformat": 4,
 "nbformat_minor": 2
}
