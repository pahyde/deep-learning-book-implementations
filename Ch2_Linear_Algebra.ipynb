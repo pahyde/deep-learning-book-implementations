{
 "cells": [
  {
   "cell_type": "code",
   "execution_count": 114,
   "metadata": {},
   "outputs": [],
   "source": [
    "import numpy as np"
   ]
  },
  {
   "cell_type": "markdown",
   "metadata": {},
   "source": [
    "## 2.1 scalars, vectors, matrices and tensors## \n",
    "\n",
    "scalars: a single number. often used in linear algebra to scale objects of higher dimension (vectors, etc.)\n",
    "\n",
    "vectors: a 1-dim array of numbers. In many cases it is useful to think of vectors as identifiying arrows or points in n-dimensional space, where n is the number of elements in the vector\n",
    "\n",
    "matrices: a 2-dim array of numbers. matrices are often used to describe linear transformations in n-dim space. \n",
    "\n",
    "tensors: an n-dim array, where n > 2.\n"
   ]
  },
  {
   "cell_type": "markdown",
   "metadata": {},
   "source": [
    "### np vector ###\n",
    "![title](img/lin1.png)"
   ]
  },
  {
   "cell_type": "code",
   "execution_count": 115,
   "metadata": {},
   "outputs": [
    {
     "data": {
      "text/plain": [
       "array([4, 5, 7])"
      ]
     },
     "execution_count": 115,
     "metadata": {},
     "output_type": "execute_result"
    }
   ],
   "source": [
    "x = np.array([4,5,7])\n",
    "x"
   ]
  },
  {
   "cell_type": "code",
   "execution_count": 116,
   "metadata": {},
   "outputs": [
    {
     "name": "stdout",
     "output_type": "stream",
     "text": [
      "shape of x: (3,)\n",
      "\n",
      "x1...xn\n",
      "x1: 4   (arr idx 0)\n",
      "x2: 5   (arr idx 1)\n",
      "x3: 7   (arr idx 2)\n"
     ]
    }
   ],
   "source": [
    "#indexing and shape\n",
    "print('shape of x:', x.shape, end='\\n\\n')\n",
    "\n",
    "print('x1...xn')\n",
    "for i in range(len(x)): \n",
    "    print('x{}: {}   (arr idx {})'.format(i+1,x[i],i))"
   ]
  },
  {
   "cell_type": "markdown",
   "metadata": {},
   "source": [
    "### np matrix (A)###\n",
    "![lin2](img/lin2.png)"
   ]
  },
  {
   "cell_type": "code",
   "execution_count": 117,
   "metadata": {},
   "outputs": [
    {
     "data": {
      "text/plain": [
       "array([[1, 2],\n",
       "       [3, 4]])"
      ]
     },
     "execution_count": 117,
     "metadata": {},
     "output_type": "execute_result"
    }
   ],
   "source": [
    "A = np.array([[1,2],\n",
    "              [3,4]])\n",
    "A"
   ]
  },
  {
   "cell_type": "code",
   "execution_count": 118,
   "metadata": {},
   "outputs": [
    {
     "name": "stdout",
     "output_type": "stream",
     "text": [
      "shape of A: (2, 2)\n",
      "\n",
      "x[1,1]...A[2,2]\n",
      "x1,1: 1   (arr idx 0,0)\n",
      "x1,2: 2   (arr idx 0,1)\n",
      "x2,1: 3   (arr idx 1,0)\n",
      "x2,2: 4   (arr idx 1,1)\n"
     ]
    }
   ],
   "source": [
    "#indexing and shape\n",
    "print('shape of A:', A.shape, end='\\n\\n')\n",
    "\n",
    "print('x[1,1]...A[2,2]')\n",
    "for i in range(len(A)):\n",
    "    for j in range(len(A[i])):\n",
    "        print('x{},{}: {}   (arr idx {},{})'.format(i+1,j+1,A[i,j],i,j))"
   ]
  },
  {
   "cell_type": "markdown",
   "metadata": {},
   "source": [
    "![lin3](img/lin3.png)"
   ]
  },
  {
   "cell_type": "code",
   "execution_count": 119,
   "metadata": {},
   "outputs": [
    {
     "data": {
      "text/plain": [
       "array([[1, 3],\n",
       "       [2, 4]])"
      ]
     },
     "execution_count": 119,
     "metadata": {},
     "output_type": "execute_result"
    }
   ],
   "source": [
    "A_t = np.transpose(A)\n",
    "A_t"
   ]
  },
  {
   "cell_type": "code",
   "execution_count": 120,
   "metadata": {},
   "outputs": [
    {
     "data": {
      "text/plain": [
       "array([[1, 2, 3],\n",
       "       [4, 5, 6],\n",
       "       [7, 8, 8]])"
      ]
     },
     "execution_count": 120,
     "metadata": {},
     "output_type": "execute_result"
    }
   ],
   "source": [
    "#3x3 transpose \n",
    "A3 = np.array([[1,2,3],\n",
    "               [4,5,6],\n",
    "               [7,8,8]])\n",
    "A3"
   ]
  },
  {
   "cell_type": "code",
   "execution_count": 121,
   "metadata": {},
   "outputs": [
    {
     "data": {
      "text/plain": [
       "array([[1, 4, 7],\n",
       "       [2, 5, 8],\n",
       "       [3, 6, 8]])"
      ]
     },
     "execution_count": 121,
     "metadata": {},
     "output_type": "execute_result"
    }
   ],
   "source": [
    "np.transpose(A3)"
   ]
  },
  {
   "cell_type": "markdown",
   "metadata": {},
   "source": [
    "![lin4](img/lin4.png)"
   ]
  },
  {
   "cell_type": "code",
   "execution_count": 122,
   "metadata": {},
   "outputs": [
    {
     "data": {
      "text/plain": [
       "array([[3, 4],\n",
       "       [5, 6]])"
      ]
     },
     "execution_count": 122,
     "metadata": {},
     "output_type": "execute_result"
    }
   ],
   "source": [
    "A = np.array([[1,2],\n",
    "              [3,4]])\n",
    "\n",
    "B = np.array([[2,2],\n",
    "              [2,2]])\n",
    "C = A + B\n",
    "C"
   ]
  },
  {
   "cell_type": "markdown",
   "metadata": {},
   "source": [
    "![lin5](img/lin5.png)"
   ]
  },
  {
   "cell_type": "code",
   "execution_count": 123,
   "metadata": {},
   "outputs": [
    {
     "data": {
      "text/plain": [
       "array([[ 5, 15],\n",
       "       [25, 35]])"
      ]
     },
     "execution_count": 123,
     "metadata": {},
     "output_type": "execute_result"
    }
   ],
   "source": [
    "a,c = 10,5\n",
    "B = np.array([[0,1],\n",
    "              [2,3]])\n",
    "#   10*B + 5\n",
    "D = a*B + c\n",
    "D"
   ]
  },
  {
   "cell_type": "markdown",
   "metadata": {},
   "source": [
    "## 2.2 Multiplying Matrices and Vectors## "
   ]
  },
  {
   "cell_type": "markdown",
   "metadata": {},
   "source": [
    "![lin6](img/lin6.png)\n",
    "<p>I like to think of eq. 2.5 as defining the element at c[i,j] as the vector dot product <br>between the ith row of A and jth col of B</p>"
   ]
  },
  {
   "cell_type": "code",
   "execution_count": 124,
   "metadata": {},
   "outputs": [
    {
     "data": {
      "text/plain": [
       "array([[ 5, 11],\n",
       "       [11, 25]])"
      ]
     },
     "execution_count": 124,
     "metadata": {},
     "output_type": "execute_result"
    }
   ],
   "source": [
    "A = np.array([[1,2],\n",
    "              [3,4]])\n",
    "\n",
    "B = np.array([[1,3],\n",
    "              [2,4]])\n",
    "\n",
    "#the np dot method performs matrix multiplication in the form defined in eq. 2.5 when A and B are matrices (dim == 2d)\n",
    "#this is not to be confused with the vector dot product mentioned below eq. 2.5\n",
    "C = A.dot(B)\n",
    "C"
   ]
  },
  {
   "cell_type": "markdown",
   "metadata": {},
   "source": [
    "![lin7](img/lin7.png)\n",
    "## Systems of linear equations are frequently quoted as a set of n equations with n unknowns\n",
    "<br>\n",
    "<p size=\"4\">In this context, 'A' will be a n x n matrix where each row can be interpretted as the set of coefficents for one of the n equations<br><br>x will be a vector of the n unknowns and b will be the vector of right hand constants equal to each of the n equations<br></p>\n",
    "\n",
    "### Let's see how this works in a concrete example:\n",
    "\n",
    "<p size=\"4\"><br>suppose we'd like to find a solution to the following system of equations</font>\n",
    "<p size=\"5\"><br><br>$$ 2s + 5t = 19 $$<br>$$ 3s - 7t = -15 $$</p>\n",
    "<p size=\"4\"><br>We could then represent this system in the following form:</p>"
   ]
  },
  {
   "cell_type": "code",
   "execution_count": 125,
   "metadata": {},
   "outputs": [],
   "source": [
    "'''\n",
    "A = [[2, 5],\n",
    "     [3,-7]]\n",
    "\n",
    "x = [s,\n",
    "     t]\n",
    "\n",
    "b = [19,\n",
    "    -15]\n",
    "    \n",
    "Ax = b\n",
    "''';"
   ]
  },
  {
   "cell_type": "markdown",
   "metadata": {},
   "source": [
    "### Our goal is then to find the vector x, such that the matrix-vector product Ax = b\n",
    "<br>\n",
    "We could approach this using elimination of substitution methods but this quickly gets out of hand for bigger systems. Instead we will look to a more powerful method known as <b>Matrix Inversion</b>\n"
   ]
  },
  {
   "cell_type": "markdown",
   "metadata": {},
   "source": [
    "<br><br>\n",
    "## 2.3 Identity and Inverse Matrices\n",
    "![lin8](img/lin8.png)"
   ]
  },
  {
   "cell_type": "code",
   "execution_count": 126,
   "metadata": {},
   "outputs": [
    {
     "name": "stdout",
     "output_type": "stream",
     "text": [
      "[1 2]\n",
      "[1 2]\n",
      "Ix == x: True\n"
     ]
    }
   ],
   "source": [
    "#identity matrix\n",
    "I = np.array([[1,0],\n",
    "              [0,1]])\n",
    "\n",
    "#suppose x = [1,2]\n",
    "x = np.array([1,2])\n",
    "\n",
    "#Let's confirm Ix = x\n",
    "Ix = I.dot(x)\n",
    "print(x)\n",
    "print(Ix)\n",
    "print('Ix == x:', np.array_equal(Ix,x))"
   ]
  },
  {
   "cell_type": "markdown",
   "metadata": {},
   "source": [
    "## Because Ix = x, we can find the vector x with the following equation\n",
    "![lin9](img/lin9.png)"
   ]
  },
  {
   "attachments": {},
   "cell_type": "markdown",
   "metadata": {},
   "source": [
    "## 2.4 Linear Dependence and Span\n",
    "![lin10](img/lin10.png)\n",
    "\n",
    "### I like to decompose the the necessary conditions for A-1 to exist into two parts:\n",
    "1. There must be a solution vector 'x' for all values of b\n",
    "2. There must be exactly one solution 'x' for each value of b"
   ]
  },
  {
   "attachments": {},
   "cell_type": "markdown",
   "metadata": {},
   "source": [
    "## Condition 1\n",
    "\n",
    "### In order to satisfy condition 1, it must be true that product of Ax can reach any vector b\n",
    "### For this to be true, it must be true that a linear combination of the columns of A can reach any point in n-dim space where n is number of components in b\n",
    "\n",
    "### If we have a set of vectors v1,v2..,vn , and scalars a1,a2..,an , a linear combination is just a summation of each vector v scaled by a. Something like this...\n",
    "![lin11](img/lin11.png)"
   ]
  },
  {
   "attachments": {},
   "cell_type": "markdown",
   "metadata": {},
   "source": [
    "## The book outlines this more formally in the context of the system of equations Ax = b\n",
    "### Here the set of vectors v are the columns of A and the scalars a are the components of x\n",
    "![lin12](img/lin12.png)"
   ]
  },
  {
   "attachments": {},
   "cell_type": "markdown",
   "metadata": {},
   "source": [
    "![lin13](img/lin13.png)\n",
    "# We can extend this to condition 1, by saying the span or column space of A must reach all possible vectors of b"
   ]
  },
  {
   "attachments": {},
   "cell_type": "markdown",
   "metadata": {},
   "source": [
    "In other words..\n",
    "![lin14](img/lin14.png)\n",
    "## Additionally to satisfy condition 1, we must also confirm that each column of A is linearly independent from every other column of A\n",
    "\n",
    "### Linear dependence is detailed in the next markdown cell"
   ]
  },
  {
   "cell_type": "code",
   "execution_count": 127,
   "metadata": {},
   "outputs": [
    {
     "data": {
      "text/plain": [
       "array([[1, 2],\n",
       "       [3, 4]])"
      ]
     },
     "execution_count": 127,
     "metadata": {},
     "output_type": "execute_result"
    }
   ],
   "source": [
    "\"\"\"\n",
    "Returning to the system of equations example\n",
    "we have..\n",
    "\n",
    "2s + 5t = 19\n",
    "3s - 7t = -15\n",
    "\n",
    "A = [[2, 5],\n",
    "     [3,-7]]\n",
    "\n",
    "b = [19,\n",
    "    -15]\n",
    "\n",
    "x = [s,\n",
    "     t]\n",
    "     \n",
    "To satisfy condition 1, it must be that the column space of A reaches all possible b\n",
    "\n",
    "To confirm this we need to verify A has 2 rows (len(b)) \n",
    "and the cols of A ([2,3] and [5,-7]) are 'linearly dependent'\n",
    "1. 2 rows\n",
    "2. [2,3] and [5,-7] are linearly dependent\n",
    "\n",
    "So, A satisfies condition 1\n",
    "\"\"\""
   ]
  },
  {
   "attachments": {},
   "cell_type": "markdown",
   "metadata": {},
   "source": [
    "## Condition 2\n",
    "### To satisfy condition 2, There must be exactly one vector x solution to Ax = b for each b\n",
    "### Said differently, There must be exactly one linear combination of the colums of A wich equals b \n",
    "## Otherwise there are multiple input vectors x which yeild the same output vector b\n",
    "![lin15](img/lin15.png)"
   ]
  },
  {
   "cell_type": "code",
   "execution_count": 137,
   "metadata": {},
   "outputs": [
    {
     "data": {
      "text/plain": [
       "array([2., 3.])"
      ]
     },
     "execution_count": 137,
     "metadata": {},
     "output_type": "execute_result"
    }
   ],
   "source": [
    "'''\n",
    "Returning to the system of equations example\n",
    "\n",
    "2s + 5t = 19\n",
    "3s - 7t = -15\n",
    "\n",
    "A = [[2, 5],\n",
    "     [3,-7]]\n",
    "\n",
    "b = [19,\n",
    "    -15]\n",
    "\n",
    "x = [s,\n",
    "     t]\n",
    "     \n",
    "We've already satisfied condition 1\n",
    "A is clearly square so conditon 2 is satisfied as well\n",
    "\n",
    "With this, we can safely employ any of the algorithms commonly used to find a closed form solution.\n",
    "\n",
    "'''\n",
    "a = np.array([[2,5], \n",
    "              [3,-7]])\n",
    "b = np.array([19,-15])\n",
    "x = np.linalg.solve(a, b)\n",
    "x"
   ]
  },
  {
   "attachments": {},
   "cell_type": "markdown",
   "metadata": {},
   "source": [
    "## 2.5 Norms\n",
    "![lin16](img/lin16.png)"
   ]
  },
  {
   "cell_type": "code",
   "execution_count": 143,
   "metadata": {},
   "outputs": [
    {
     "data": {
      "text/plain": [
       "9.097512120697298"
      ]
     },
     "execution_count": 143,
     "metadata": {},
     "output_type": "execute_result"
    }
   ],
   "source": [
    "x = np.array([3,2,7,-4,8])\n",
    "p = 4\n",
    "\n",
    "#L4 norm of x\n",
    "norm = np.sum(np.absolute(x) ** p) ** (1/p)\n",
    "norm"
   ]
  },
  {
   "attachments": {},
   "cell_type": "markdown",
   "metadata": {},
   "source": [
    "![lin17](img/lin17.png)"
   ]
  },
  {
   "cell_type": "code",
   "execution_count": 147,
   "metadata": {},
   "outputs": [
    {
     "name": "stdout",
     "output_type": "stream",
     "text": [
      "L2: 11.916375287812984\n",
      "L2^2: 142\n",
      "L2^2: 142 (xTx)\n"
     ]
    }
   ],
   "source": [
    "x = np.array([3,2,7,-4,8])\n",
    "p = 2\n",
    "\n",
    "#Euclidean (L2) norm of x\n",
    "norm = np.sum(np.absolute(x) ** p) ** (1/p)\n",
    "print('L2:',norm)\n",
    "\n",
    "#L2^2 norm of x\n",
    "norm2 = np.sum(np.absolute(x) ** p)\n",
    "print('L2^2:',norm2)\n",
    "\n",
    "#L2^2 calculated as xTx\n",
    "norm2 = x.dot(x)\n",
    "print('L2^2:',norm2,'(xTx)')"
   ]
  },
  {
   "attachments": {},
   "cell_type": "markdown",
   "metadata": {},
   "source": [
    "![lin18](img/lin18.png)"
   ]
  },
  {
   "cell_type": "code",
   "execution_count": 149,
   "metadata": {},
   "outputs": [
    {
     "name": "stdout",
     "output_type": "stream",
     "text": [
      "L_infinity: 8\n"
     ]
    }
   ],
   "source": [
    "x = np.array([3,2,7,-4,8])\n",
    "\n",
    "#max norm of x\n",
    "norm = x.max()\n",
    "print('L_infinity:',norm)"
   ]
  },
  {
   "attachments": {},
   "cell_type": "markdown",
   "metadata": {},
   "source": [
    "![lin19](img/lin19.png)"
   ]
  },
  {
   "cell_type": "code",
   "execution_count": 150,
   "metadata": {},
   "outputs": [
    {
     "name": "stdout",
     "output_type": "stream",
     "text": [
      "A_F: 8.831760866327848\n"
     ]
    }
   ],
   "source": [
    "A = np.array([[3,2],\n",
    "              [7,-4]])\n",
    "\n",
    "\n",
    "#Frobenius norm of A\n",
    "norm = np.sum(A**2)**.5\n",
    "print('A_F:',norm)"
   ]
  },
  {
   "attachments": {},
   "cell_type": "markdown",
   "metadata": {},
   "source": [
    "## 2.6 Special kinds of matrices and vectors\n",
    "![lin20](img/lin20.png)"
   ]
  },
  {
   "attachments": {},
   "cell_type": "markdown",
   "metadata": {},
   "source": [
    "## 2.7 Eigendecomposition\n",
    "![lin21](img/lin21.png)"
   ]
  },
  {
   "cell_type": "code",
   "execution_count": 154,
   "metadata": {},
   "outputs": [
    {
     "name": "stdout",
     "output_type": "stream",
     "text": [
      "Av:      [12  8]\n",
      "lmbda_v: [12  8]\n"
     ]
    }
   ],
   "source": [
    "#Suppose we have some matrix A\n",
    "A = np.array([[2,3],\n",
    "              [2,1]])\n",
    "\n",
    "#If we can find some vector (v) and scalar (lmbda) such that A v = lmbda v\n",
    "#then v is an eigenvector of A and lmbda is an eigenvalue\n",
    "#In other words v is simply scaled by lmbda when multiplied by A\n",
    "\n",
    "#one eigenvector or A\n",
    "v = np.array([3,2])\n",
    "\n",
    "#corresponding eigenvalue\n",
    "lmbda = 4\n",
    "\n",
    "#Let's confirm A v = lmbda v\n",
    "print('Av:     ',A.dot(v))\n",
    "print('lmbda_v:',lmbda * v)"
   ]
  },
  {
   "attachments": {},
   "cell_type": "markdown",
   "metadata": {},
   "source": [
    "![lin22](img/lin22.png)"
   ]
  },
  {
   "attachments": {},
   "cell_type": "markdown",
   "metadata": {},
   "source": [
    "![lin23](img/lin23.png)"
   ]
  },
  {
   "cell_type": "code",
   "execution_count": 197,
   "metadata": {},
   "outputs": [
    {
     "name": "stdout",
     "output_type": "stream",
     "text": [
      "A == Vdiag(l)V_inv ? True\n"
     ]
    },
    {
     "data": {
      "text/plain": [
       "array([[2, 3],\n",
       "       [2, 1]])"
      ]
     },
     "execution_count": 197,
     "metadata": {},
     "output_type": "execute_result"
    }
   ],
   "source": [
    "#Suppose again we have matrix A\n",
    "A = np.array([[2,3],\n",
    "              [2,1]])\n",
    "\n",
    "#A has two 2 sets of eigenvectors and eigenvalues, v1,lmbda1 and v2,lmbda2\n",
    "v1 = np.array([3,2])\n",
    "lmbda1 = 4\n",
    "\n",
    "v2 = np.array([-1,1])\n",
    "lmbda2 = -1\n",
    "\n",
    "#V = [v1,v2] col concatenation\n",
    "V = np.column_stack((v1,v2))\n",
    "\n",
    "#V-1\n",
    "V_inv = np.linalg.inv(V)\n",
    "\n",
    "#l = [lmbda1,lmbda2]\n",
    "l = np.array([lmbda1,lmbda2])\n",
    "\n",
    "#diag(l)\n",
    "diag = np.diag(l)\n",
    "\n",
    "#I'd like to spend some time confirming Eq 2.40 analytically or via proof\n",
    "#For now lets confirm the equation holds computationally using numpy\n",
    "\n",
    "V_diag_Vinv = V.dot(diag).dot(V_inv).astype(int)\n",
    "\n",
    "print('A == Vdiag(l)V_inv ?', np.array_equal(A,V_diag_Vinv))\n",
    "\n",
    "V_diag_Vinv"
   ]
  },
  {
   "cell_type": "code",
   "execution_count": null,
   "metadata": {},
   "outputs": [],
   "source": []
  }
 ],
 "metadata": {
  "kernelspec": {
   "display_name": "Python 3",
   "language": "python",
   "name": "python3"
  },
  "language_info": {
   "codemirror_mode": {
    "name": "ipython",
    "version": 3
   },
   "file_extension": ".py",
   "mimetype": "text/x-python",
   "name": "python",
   "nbconvert_exporter": "python",
   "pygments_lexer": "ipython3",
   "version": "3.6.4"
  }
 },
 "nbformat": 4,
 "nbformat_minor": 2
}
