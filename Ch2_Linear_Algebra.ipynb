{
 "cells": [
  {
   "cell_type": "code",
   "execution_count": 88,
   "metadata": {},
   "outputs": [],
   "source": [
    "import numpy as np"
   ]
  },
  {
   "cell_type": "markdown",
   "metadata": {},
   "source": [
    "## 2.1 scalars, vectors, matrices and tensors## \n",
    "\n",
    "scalars: a single number. often used in linear algebra to scale objects of higher dimension (vectors, etc.)\n",
    "\n",
    "vectors: a 1-dim array of numbers. In many cases it is useful to think of vectors as identifiying arrows or points in n-dimensional space, where n is the number of elements in the vector\n",
    "\n",
    "matrices: a 2-dim array of numbers. matrices are often used to describe linear transformations in n-dim space. \n",
    "\n",
    "tensors: an n-dim array, where n > 2.\n"
   ]
  },
  {
   "attachments": {},
   "cell_type": "markdown",
   "metadata": {},
   "source": [
    "### np vector ###\n",
    "![title](img/lin1.png)"
   ]
  },
  {
   "cell_type": "code",
   "execution_count": 101,
   "metadata": {},
   "outputs": [
    {
     "data": {
      "text/plain": [
       "array([4, 5, 7])"
      ]
     },
     "execution_count": 101,
     "metadata": {},
     "output_type": "execute_result"
    }
   ],
   "source": [
    "x = np.array([4,5,7])\n",
    "x"
   ]
  },
  {
   "cell_type": "code",
   "execution_count": 102,
   "metadata": {},
   "outputs": [
    {
     "name": "stdout",
     "output_type": "stream",
     "text": [
      "shape of x: (3,)\n",
      "\n",
      "x1...xn\n",
      "x1: 4   (arr idx 0)\n",
      "x2: 5   (arr idx 1)\n",
      "x3: 7   (arr idx 2)\n"
     ]
    }
   ],
   "source": [
    "#indexing and shape\n",
    "print('shape of x:', x.shape, end='\\n\\n')\n",
    "\n",
    "print('x1...xn')\n",
    "for i in range(len(x)): \n",
    "    print('x{}: {}   (arr idx {})'.format(i+1,x[i],i))"
   ]
  },
  {
   "attachments": {},
   "cell_type": "markdown",
   "metadata": {},
   "source": [
    "### np matrix (A)###\n",
    "![lin2](img/lin2.png)"
   ]
  },
  {
   "cell_type": "code",
   "execution_count": 103,
   "metadata": {},
   "outputs": [
    {
     "data": {
      "text/plain": [
       "array([[1, 2],\n",
       "       [3, 4]])"
      ]
     },
     "execution_count": 103,
     "metadata": {},
     "output_type": "execute_result"
    }
   ],
   "source": [
    "A = np.array([[1,2],\n",
    "              [3,4]])\n",
    "A"
   ]
  },
  {
   "cell_type": "code",
   "execution_count": 104,
   "metadata": {},
   "outputs": [
    {
     "name": "stdout",
     "output_type": "stream",
     "text": [
      "shape of A: (2, 2)\n",
      "\n",
      "x[1,1]...A[2,2]\n",
      "x1,1: 1   (arr idx 0,0)\n",
      "x1,2: 2   (arr idx 0,1)\n",
      "x2,1: 3   (arr idx 1,0)\n",
      "x2,2: 4   (arr idx 1,1)\n"
     ]
    }
   ],
   "source": [
    "#indexing and shape\n",
    "print('shape of A:', A.shape, end='\\n\\n')\n",
    "\n",
    "print('x[1,1]...A[2,2]')\n",
    "for i in range(len(A)):\n",
    "    for j in range(len(A[i])):\n",
    "        print('x{},{}: {}   (arr idx {},{})'.format(i+1,j+1,A[i,j],i,j))"
   ]
  },
  {
   "attachments": {},
   "cell_type": "markdown",
   "metadata": {},
   "source": [
    "![lin3](img/lin3.png)"
   ]
  },
  {
   "cell_type": "code",
   "execution_count": 105,
   "metadata": {},
   "outputs": [
    {
     "data": {
      "text/plain": [
       "array([[1, 3],\n",
       "       [2, 4]])"
      ]
     },
     "execution_count": 105,
     "metadata": {},
     "output_type": "execute_result"
    }
   ],
   "source": [
    "A_t = np.transpose(A)\n",
    "A_t"
   ]
  },
  {
   "cell_type": "code",
   "execution_count": 106,
   "metadata": {},
   "outputs": [
    {
     "data": {
      "text/plain": [
       "array([[1, 2, 3],\n",
       "       [4, 5, 6],\n",
       "       [7, 8, 8]])"
      ]
     },
     "execution_count": 106,
     "metadata": {},
     "output_type": "execute_result"
    }
   ],
   "source": [
    "#3x3 transpose \n",
    "A3 = np.array([[1,2,3],\n",
    "               [4,5,6],\n",
    "               [7,8,8]])\n",
    "A3"
   ]
  },
  {
   "cell_type": "code",
   "execution_count": 107,
   "metadata": {},
   "outputs": [
    {
     "data": {
      "text/plain": [
       "array([[1, 4, 7],\n",
       "       [2, 5, 8],\n",
       "       [3, 6, 8]])"
      ]
     },
     "execution_count": 107,
     "metadata": {},
     "output_type": "execute_result"
    }
   ],
   "source": [
    "np.transpose(A3)"
   ]
  },
  {
   "attachments": {},
   "cell_type": "markdown",
   "metadata": {},
   "source": [
    "![lin4](img/lin4.png)"
   ]
  },
  {
   "cell_type": "code",
   "execution_count": 108,
   "metadata": {},
   "outputs": [
    {
     "data": {
      "text/plain": [
       "array([[3, 4],\n",
       "       [5, 6]])"
      ]
     },
     "execution_count": 108,
     "metadata": {},
     "output_type": "execute_result"
    }
   ],
   "source": [
    "A = np.array([[1,2],\n",
    "              [3,4]])\n",
    "\n",
    "B = np.array([[2,2],\n",
    "              [2,2]])\n",
    "C = A + B\n",
    "C"
   ]
  },
  {
   "attachments": {},
   "cell_type": "markdown",
   "metadata": {},
   "source": [
    "![lin5](img/lin5.png)"
   ]
  },
  {
   "cell_type": "code",
   "execution_count": 109,
   "metadata": {},
   "outputs": [
    {
     "data": {
      "text/plain": [
       "array([[ 5, 15],\n",
       "       [25, 35]])"
      ]
     },
     "execution_count": 109,
     "metadata": {},
     "output_type": "execute_result"
    }
   ],
   "source": [
    "a,c = 10,5\n",
    "B = np.array([[0,1],\n",
    "              [2,3]])\n",
    "#   10*B + 5\n",
    "D = a*B + c\n",
    "D"
   ]
  },
  {
   "cell_type": "markdown",
   "metadata": {},
   "source": [
    "## 2.1 Multiplying Matrices and Vectors## "
   ]
  },
  {
   "attachments": {},
   "cell_type": "markdown",
   "metadata": {},
   "source": [
    "![lin6](img/lin6.png)\n",
    "<font size=\"5\">I like to think of eq. 2.5 as defining the element at c[i,j] as the vector dot product <br>between the ith row of A and jth col of B</font>"
   ]
  },
  {
   "cell_type": "code",
   "execution_count": 110,
   "metadata": {},
   "outputs": [
    {
     "data": {
      "text/plain": [
       "array([[ 5, 11],\n",
       "       [11, 25]])"
      ]
     },
     "execution_count": 110,
     "metadata": {},
     "output_type": "execute_result"
    }
   ],
   "source": [
    "A = np.array([[1,2],\n",
    "              [3,4]])\n",
    "\n",
    "B = np.array([[1,3],\n",
    "              [2,4]])\n",
    "\n",
    "#the np dot method performs matrix multiplication in the form defined in eq. 2.5 when A and B are matrices (dim == 2d)\n",
    "#this is not to be confused with the vector dot product mentioned below eq. 2.5\n",
    "C = A.dot(B)\n",
    "C"
   ]
  },
  {
   "attachments": {},
   "cell_type": "markdown",
   "metadata": {},
   "source": [
    "![lin7](img/lin7.png)\n",
    "## Systems of linear equations are frequently quoted as a set of n equations with n unknowns\n",
    "<br>\n",
    "<font size=\"4\">In this context, 'A' will be a n x n matrix where each row can be interpretted as the set of coefficents for one of the n equations<br><br>x will be a vector of the n unknowns and b will be the vector of right hand constants equal to each of the n equations<br></font>\n",
    "\n",
    "### Let's see how this works in a concrete example:\n",
    "\n",
    "<font size=\"4\"><br>suppose we'd like to find a solution to the following system of equations</font>\n",
    "<font size=\"5\"><br><br>$$ 2s + 5t = 19 $$<br>$$ 3s - 7t = -15 $$</font>\n",
    "<font size=\"4\"><br>We could then represent this system in the following form:</font>"
   ]
  },
  {
   "cell_type": "code",
   "execution_count": 111,
   "metadata": {},
   "outputs": [],
   "source": [
    "'''\n",
    "A = [[2, 5],\n",
    "     [3,-7]]\n",
    "\n",
    "x = [s,\n",
    "     t]\n",
    "\n",
    "b = [19,\n",
    "    -15]\n",
    "    \n",
    "Ax = b\n",
    "''';"
   ]
  },
  {
   "cell_type": "markdown",
   "metadata": {},
   "source": [
    "<font size=\"5\">Our goal is then to find the vector x, such that the matrix-vector product Ax = b</font>\n",
    "<br><br>\n",
    "<font size=\"4\"> We could approach this using elimination of substitution methods but this quickly gets out of hand for bigger systems. Instead we will look to a more powerful method known as <b>Matrix Inversion</b></font>\n"
   ]
  },
  {
   "attachments": {},
   "cell_type": "markdown",
   "metadata": {},
   "source": [
    "<br><br>\n",
    "## 2.3 Identity and Inverse Matrices\n",
    "![lin8](img/lin8.png)"
   ]
  },
  {
   "cell_type": "code",
   "execution_count": 112,
   "metadata": {},
   "outputs": [
    {
     "name": "stdout",
     "output_type": "stream",
     "text": [
      "[1 2]\n",
      "[1 2]\n",
      "Ix == x: True\n"
     ]
    }
   ],
   "source": [
    "#identity matrix\n",
    "I = np.array([[1,0],\n",
    "              [0,1]])\n",
    "\n",
    "#suppose x = [1,2]\n",
    "x = np.array([1,2])\n",
    "\n",
    "#Let's confirm Ix = x\n",
    "Ix = I.dot(x)\n",
    "print(x)\n",
    "print(Ix)\n",
    "print('Ix == x:', np.array_equal(Ix,x))"
   ]
  },
  {
   "attachments": {},
   "cell_type": "markdown",
   "metadata": {},
   "source": [
    "## Because Ix = x, we can find the vector x with the following equation\n",
    "![lin9](img/lin9.png)"
   ]
  },
  {
   "cell_type": "code",
   "execution_count": null,
   "metadata": {},
   "outputs": [],
   "source": []
  },
  {
   "cell_type": "code",
   "execution_count": null,
   "metadata": {},
   "outputs": [],
   "source": []
  },
  {
   "cell_type": "code",
   "execution_count": null,
   "metadata": {},
   "outputs": [],
   "source": []
  },
  {
   "cell_type": "code",
   "execution_count": null,
   "metadata": {},
   "outputs": [],
   "source": []
  },
  {
   "cell_type": "code",
   "execution_count": null,
   "metadata": {},
   "outputs": [],
   "source": []
  },
  {
   "cell_type": "code",
   "execution_count": null,
   "metadata": {},
   "outputs": [],
   "source": []
  }
 ],
 "metadata": {
  "kernelspec": {
   "display_name": "Python 3",
   "language": "python",
   "name": "python3"
  },
  "language_info": {
   "codemirror_mode": {
    "name": "ipython",
    "version": 3
   },
   "file_extension": ".py",
   "mimetype": "text/x-python",
   "name": "python",
   "nbconvert_exporter": "python",
   "pygments_lexer": "ipython3",
   "version": "3.6.4"
  }
 },
 "nbformat": 4,
 "nbformat_minor": 2
}
